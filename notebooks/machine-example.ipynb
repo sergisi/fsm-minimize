{
 "cells": [
  {
   "cell_type": "code",
   "execution_count": 1,
   "metadata": {},
   "outputs": [],
   "source": [
    "import sys\n",
    "sys.path.append('../')\n",
    "import minimize.machine as fsm\n",
    "from IPython.display import SVG, display"
   ]
  },
  {
   "cell_type": "markdown",
   "metadata": {},
   "source": [
    "# Exemple de mostreig d'un AF\n",
    "\n",
    "En la següent cel·la podem veure com mostrar un AF en l'entorn de treball de jupyter. El propi jupyter no\n",
    "mostrarà directament la imatge, donat que el mòdul que hem utilitzat està encarada a fer fitxers. Per\n",
    "a superar aquesta mancança del mòdul, escrivim un fitxer i el mostrem utilitzant el display que proporciona\n",
    "jupyter."
   ]
  },
  {
   "cell_type": "code",
   "execution_count": 2,
   "metadata": {
    "scrolled": true
   },
   "outputs": [
    {
     "data": {
      "image/svg+xml": [
       "<svg height=\"191pt\" viewBox=\"0.00 0.00 542.55 191.00\" width=\"543pt\" xmlns=\"http://www.w3.org/2000/svg\" xmlns:xlink=\"http://www.w3.org/1999/xlink\">\n",
       "<g class=\"graph\" id=\"graph0\" transform=\"scale(1 1) rotate(0) translate(4 187)\">\n",
       "<polygon fill=\"#ffffff\" points=\"-4,4 -4,-187 538.5501,-187 538.5501,4 -4,4\" stroke=\"transparent\"/>\n",
       "<text fill=\"#000000\" font-family=\"Times,serif\" font-size=\"14.00\" text-anchor=\"middle\" x=\"267.275\" y=\"-7.8\">fsm-example</text>\n",
       "<!-- 0 -->\n",
       "<g class=\"node\" id=\"node1\">\n",
       "<title>0</title>\n",
       "<ellipse cx=\"169.5501\" cy=\"-70\" fill=\"#ffffff\" rx=\"43\" ry=\"43\" stroke=\"#000000\"/>\n",
       "<text fill=\"#000000\" font-family=\"Times,serif\" font-size=\"14.00\" text-anchor=\"middle\" x=\"169.5501\" y=\"-66.3\">0</text>\n",
       "</g>\n",
       "<!-- 1 -->\n",
       "<g class=\"node\" id=\"node2\">\n",
       "<title>1</title>\n",
       "<ellipse cx=\"439.5501\" cy=\"-70\" fill=\"#ffffff\" rx=\"43\" ry=\"43\" stroke=\"#000000\"/>\n",
       "<ellipse cx=\"439.5501\" cy=\"-70\" fill=\"none\" rx=\"47\" ry=\"47\" stroke=\"#000000\"/>\n",
       "<text fill=\"#000000\" font-family=\"Times,serif\" font-size=\"14.00\" text-anchor=\"middle\" x=\"439.5501\" y=\"-66.3\">1</text>\n",
       "</g>\n",
       "<!-- 0&#45;&gt;1 -->\n",
       "<g class=\"edge\" id=\"edge1\">\n",
       "<title>0-&gt;1</title>\n",
       "<path d=\"M212.6309,-70C258.5958,-70 331.6349,-70 382.3847,-70\" fill=\"none\" stroke=\"#000000\"/>\n",
       "<polygon fill=\"#000000\" points=\"382.5402,-73.5001 392.5401,-70 382.5401,-66.5001 382.5402,-73.5001\" stroke=\"#000000\"/>\n",
       "<text fill=\"#000000\" font-family=\"Times,serif\" font-size=\"14.00\" text-anchor=\"middle\" x=\"300.5501\" y=\"-73.8\">a</text>\n",
       "</g>\n",
       "<!-- 1&#45;&gt;1 -->\n",
       "<g class=\"edge\" id=\"edge2\">\n",
       "<title>1-&gt;1</title>\n",
       "<path d=\"M426.7902,-115.2611C427.6825,-126.557 431.9358,-135 439.5501,-135 444.6659,-135 448.2645,-131.1887 450.3459,-125.2615\" fill=\"none\" stroke=\"#000000\"/>\n",
       "<polygon fill=\"#000000\" points=\"453.8172,-125.7482 452.3099,-115.2611 446.9484,-124.3992 453.8172,-125.7482\" stroke=\"#000000\"/>\n",
       "<text fill=\"#000000\" font-family=\"Times,serif\" font-size=\"14.00\" text-anchor=\"middle\" x=\"439.5501\" y=\"-138.8\">a</text>\n",
       "</g>\n",
       "<!-- 1&#45;&gt;1 -->\n",
       "<g class=\"edge\" id=\"edge3\">\n",
       "<title>1-&gt;1</title>\n",
       "<path d=\"M414.9132,-110.1395C410.3143,-132.4526 418.5266,-153 439.5501,-153 457.3707,-153 465.9863,-138.2363 465.3967,-120.1479\" fill=\"none\" stroke=\"#000000\"/>\n",
       "<polygon fill=\"#000000\" points=\"468.8618,-119.6472 464.1869,-110.1395 461.9124,-120.4873 468.8618,-119.6472\" stroke=\"#000000\"/>\n",
       "<text fill=\"#000000\" font-family=\"Times,serif\" font-size=\"14.00\" text-anchor=\"middle\" x=\"439.5501\" y=\"-156.8\">b</text>\n",
       "</g>\n",
       "<!-- qi0 -->\n",
       "<g class=\"node\" id=\"node3\">\n",
       "<title>qi0</title>\n",
       "<ellipse cx=\"3.5501\" cy=\"-70\" fill=\"#000000\" rx=\"1.8\" ry=\"1.8\" stroke=\"#000000\"/>\n",
       "</g>\n",
       "<!-- qi0&#45;&gt;0 -->\n",
       "<g class=\"edge\" id=\"edge4\">\n",
       "<title>qi0-&gt;0</title>\n",
       "<path d=\"M5.4143,-70C16.2964,-70 72.6316,-70 116.3021,-70\" fill=\"none\" stroke=\"#000000\"/>\n",
       "<polygon fill=\"#000000\" points=\"116.5311,-73.5001 126.531,-70 116.531,-66.5001 116.5311,-73.5001\" stroke=\"#000000\"/>\n",
       "</g>\n",
       "</g>\n",
       "</svg>"
      ],
      "text/plain": [
       "<IPython.core.display.SVG object>"
      ]
     },
     "metadata": {},
     "output_type": "display_data"
    }
   ],
   "source": [
    "af = fsm.Machine('fsm-example',['0', '1'], ['a', 'b'], [['a', '0', '1'],\n",
    "                                      ['a', '1', '1'],\n",
    "                                      ['b', '1', '1']],\n",
    "             ['0'], ['1'])\n",
    "af.represent().draw('file', format='svg', prog='dot')\n",
    "display(SVG(filename='file'))"
   ]
  },
  {
   "cell_type": "markdown",
   "metadata": {},
   "source": [
    "# Exemple d'automat ja minimitzat"
   ]
  },
  {
   "cell_type": "code",
   "execution_count": 4,
   "metadata": {},
   "outputs": [
    {
     "data": {
      "image/svg+xml": [
       "<svg height=\"191pt\" viewBox=\"0.00 0.00 542.55 191.00\" width=\"543pt\" xmlns=\"http://www.w3.org/2000/svg\" xmlns:xlink=\"http://www.w3.org/1999/xlink\">\n",
       "<g class=\"graph\" id=\"graph0\" transform=\"scale(1 1) rotate(0) translate(4 187)\">\n",
       "<polygon fill=\"#ffffff\" points=\"-4,4 -4,-187 538.5501,-187 538.5501,4 -4,4\" stroke=\"transparent\"/>\n",
       "<text fill=\"#000000\" font-family=\"Times,serif\" font-size=\"14.00\" text-anchor=\"middle\" x=\"267.275\" y=\"-7.8\">fsm-example minimized</text>\n",
       "<!-- 0 -->\n",
       "<g class=\"node\" id=\"node1\">\n",
       "<title>0</title>\n",
       "<ellipse cx=\"169.5501\" cy=\"-70\" fill=\"#ffffff\" rx=\"43\" ry=\"43\" stroke=\"#000000\"/>\n",
       "<text fill=\"#000000\" font-family=\"Times,serif\" font-size=\"14.00\" text-anchor=\"middle\" x=\"169.5501\" y=\"-66.3\">0</text>\n",
       "</g>\n",
       "<!-- 1 -->\n",
       "<g class=\"node\" id=\"node2\">\n",
       "<title>1</title>\n",
       "<ellipse cx=\"439.5501\" cy=\"-70\" fill=\"#ffffff\" rx=\"43\" ry=\"43\" stroke=\"#000000\"/>\n",
       "<ellipse cx=\"439.5501\" cy=\"-70\" fill=\"none\" rx=\"47\" ry=\"47\" stroke=\"#000000\"/>\n",
       "<text fill=\"#000000\" font-family=\"Times,serif\" font-size=\"14.00\" text-anchor=\"middle\" x=\"439.5501\" y=\"-66.3\">1</text>\n",
       "</g>\n",
       "<!-- 0&#45;&gt;1 -->\n",
       "<g class=\"edge\" id=\"edge1\">\n",
       "<title>0-&gt;1</title>\n",
       "<path d=\"M212.6309,-70C258.5958,-70 331.6349,-70 382.3847,-70\" fill=\"none\" stroke=\"#000000\"/>\n",
       "<polygon fill=\"#000000\" points=\"382.5402,-73.5001 392.5401,-70 382.5401,-66.5001 382.5402,-73.5001\" stroke=\"#000000\"/>\n",
       "<text fill=\"#000000\" font-family=\"Times,serif\" font-size=\"14.00\" text-anchor=\"middle\" x=\"300.5501\" y=\"-73.8\">a</text>\n",
       "</g>\n",
       "<!-- 1&#45;&gt;1 -->\n",
       "<g class=\"edge\" id=\"edge2\">\n",
       "<title>1-&gt;1</title>\n",
       "<path d=\"M426.7902,-115.2611C427.6825,-126.557 431.9358,-135 439.5501,-135 444.6659,-135 448.2645,-131.1887 450.3459,-125.2615\" fill=\"none\" stroke=\"#000000\"/>\n",
       "<polygon fill=\"#000000\" points=\"453.8172,-125.7482 452.3099,-115.2611 446.9484,-124.3992 453.8172,-125.7482\" stroke=\"#000000\"/>\n",
       "<text fill=\"#000000\" font-family=\"Times,serif\" font-size=\"14.00\" text-anchor=\"middle\" x=\"439.5501\" y=\"-138.8\">a</text>\n",
       "</g>\n",
       "<!-- 1&#45;&gt;1 -->\n",
       "<g class=\"edge\" id=\"edge3\">\n",
       "<title>1-&gt;1</title>\n",
       "<path d=\"M414.9132,-110.1395C410.3143,-132.4526 418.5266,-153 439.5501,-153 457.3707,-153 465.9863,-138.2363 465.3967,-120.1479\" fill=\"none\" stroke=\"#000000\"/>\n",
       "<polygon fill=\"#000000\" points=\"468.8618,-119.6472 464.1869,-110.1395 461.9124,-120.4873 468.8618,-119.6472\" stroke=\"#000000\"/>\n",
       "<text fill=\"#000000\" font-family=\"Times,serif\" font-size=\"14.00\" text-anchor=\"middle\" x=\"439.5501\" y=\"-156.8\">b</text>\n",
       "</g>\n",
       "<!-- qi0 -->\n",
       "<g class=\"node\" id=\"node3\">\n",
       "<title>qi0</title>\n",
       "<ellipse cx=\"3.5501\" cy=\"-70\" fill=\"#000000\" rx=\"1.8\" ry=\"1.8\" stroke=\"#000000\"/>\n",
       "</g>\n",
       "<!-- qi0&#45;&gt;0 -->\n",
       "<g class=\"edge\" id=\"edge4\">\n",
       "<title>qi0-&gt;0</title>\n",
       "<path d=\"M5.4143,-70C16.2964,-70 72.6316,-70 116.3021,-70\" fill=\"none\" stroke=\"#000000\"/>\n",
       "<polygon fill=\"#000000\" points=\"116.5311,-73.5001 126.531,-70 116.531,-66.5001 116.5311,-73.5001\" stroke=\"#000000\"/>\n",
       "</g>\n",
       "</g>\n",
       "</svg>"
      ],
      "text/plain": [
       "<IPython.core.display.SVG object>"
      ]
     },
     "metadata": {},
     "output_type": "display_data"
    }
   ],
   "source": [
    "af2 = af.minimize()\n",
    "af2.represent().draw('file', format='svg', prog='dot')\n",
    "display(SVG(filename='file'))"
   ]
  },
  {
   "cell_type": "markdown",
   "metadata": {},
   "source": [
    "# Exemple d'automat finit per a minimitzar"
   ]
  },
  {
   "cell_type": "code",
   "execution_count": 5,
   "metadata": {},
   "outputs": [
    {
     "data": {
      "image/svg+xml": [
       "<svg height=\"191pt\" viewBox=\"0.00 0.00 542.51 191.00\" width=\"543pt\" xmlns=\"http://www.w3.org/2000/svg\" xmlns:xlink=\"http://www.w3.org/1999/xlink\">\n",
       "<g class=\"graph\" id=\"graph0\" transform=\"scale(1 1) rotate(0) translate(4 187)\">\n",
       "<polygon fill=\"#ffffff\" points=\"-4,4 -4,-187 538.5141,-187 538.5141,4 -4,4\" stroke=\"transparent\"/>\n",
       "<text fill=\"#000000\" font-family=\"Times,serif\" font-size=\"14.00\" text-anchor=\"middle\" x=\"267.2571\" y=\"-7.8\">fsm-example</text>\n",
       "<!-- 0 -->\n",
       "<g class=\"node\" id=\"node1\">\n",
       "<title>0</title>\n",
       "<ellipse cx=\"172.5141\" cy=\"-70\" fill=\"#ffffff\" rx=\"43\" ry=\"43\" stroke=\"#000000\"/>\n",
       "<ellipse cx=\"172.5141\" cy=\"-70\" fill=\"none\" rx=\"47\" ry=\"47\" stroke=\"#000000\"/>\n",
       "<text fill=\"#000000\" font-family=\"Times,serif\" font-size=\"14.00\" text-anchor=\"middle\" x=\"172.5141\" y=\"-66.3\">0</text>\n",
       "</g>\n",
       "<!-- 1 -->\n",
       "<g class=\"node\" id=\"node2\">\n",
       "<title>1</title>\n",
       "<ellipse cx=\"442.5141\" cy=\"-70\" fill=\"#ffffff\" rx=\"43\" ry=\"43\" stroke=\"#000000\"/>\n",
       "<ellipse cx=\"442.5141\" cy=\"-70\" fill=\"none\" rx=\"47\" ry=\"47\" stroke=\"#000000\"/>\n",
       "<text fill=\"#000000\" font-family=\"Times,serif\" font-size=\"14.00\" text-anchor=\"middle\" x=\"442.5141\" y=\"-66.3\">1</text>\n",
       "</g>\n",
       "<!-- 0&#45;&gt;1 -->\n",
       "<g class=\"edge\" id=\"edge1\">\n",
       "<title>0-&gt;1</title>\n",
       "<path d=\"M219.5446,-70C265.5283,-70 335.6306,-70 384.929,-70\" fill=\"none\" stroke=\"#000000\"/>\n",
       "<polygon fill=\"#000000\" points=\"385.1168,-73.5001 395.1168,-70 385.1167,-66.5001 385.1168,-73.5001\" stroke=\"#000000\"/>\n",
       "<text fill=\"#000000\" font-family=\"Times,serif\" font-size=\"14.00\" text-anchor=\"middle\" x=\"307.5141\" y=\"-73.8\">a</text>\n",
       "</g>\n",
       "<!-- 0&#45;&gt;1 -->\n",
       "<g class=\"edge\" id=\"edge2\">\n",
       "<title>0-&gt;1</title>\n",
       "<path d=\"M218.2099,-58.892C245.1325,-53.5602 279.907,-48.7643 311.0141,-51 335.7657,-52.7789 362.9369,-56.418 386.123,-60.0398\" fill=\"none\" stroke=\"#000000\"/>\n",
       "<polygon fill=\"#000000\" points=\"385.7066,-63.5176 396.1338,-61.6404 386.8119,-56.6054 385.7066,-63.5176\" stroke=\"#000000\"/>\n",
       "<text fill=\"#000000\" font-family=\"Times,serif\" font-size=\"14.00\" text-anchor=\"middle\" x=\"307.5141\" y=\"-54.8\">b</text>\n",
       "</g>\n",
       "<!-- 1&#45;&gt;1 -->\n",
       "<g class=\"edge\" id=\"edge3\">\n",
       "<title>1-&gt;1</title>\n",
       "<path d=\"M430.1479,-115.5603C431.0639,-126.7057 435.186,-135 442.5141,-135 447.4377,-135 450.914,-131.2558 452.9431,-125.4184\" fill=\"none\" stroke=\"#000000\"/>\n",
       "<polygon fill=\"#000000\" points=\"456.3863,-126.0476 454.8804,-115.5603 449.5177,-124.6977 456.3863,-126.0476\" stroke=\"#000000\"/>\n",
       "<text fill=\"#000000\" font-family=\"Times,serif\" font-size=\"14.00\" text-anchor=\"middle\" x=\"442.5141\" y=\"-138.8\">a</text>\n",
       "</g>\n",
       "<!-- 1&#45;&gt;1 -->\n",
       "<g class=\"edge\" id=\"edge4\">\n",
       "<title>1-&gt;1</title>\n",
       "<path d=\"M418.5071,-110.5684C414.2286,-132.7152 422.2309,-153 442.5141,-153 459.6281,-153 467.9991,-138.559 467.6273,-120.743\" fill=\"none\" stroke=\"#000000\"/>\n",
       "<polygon fill=\"#000000\" points=\"471.0815,-120.1315 466.5212,-110.5684 464.1225,-120.8881 471.0815,-120.1315\" stroke=\"#000000\"/>\n",
       "<text fill=\"#000000\" font-family=\"Times,serif\" font-size=\"14.00\" text-anchor=\"middle\" x=\"442.5141\" y=\"-156.8\">b</text>\n",
       "</g>\n",
       "<!-- qi0 -->\n",
       "<g class=\"node\" id=\"node3\">\n",
       "<title>qi0</title>\n",
       "<ellipse cx=\"3.5141\" cy=\"-70\" fill=\"#000000\" rx=\"1.8\" ry=\"1.8\" stroke=\"#000000\"/>\n",
       "</g>\n",
       "<!-- qi0&#45;&gt;0 -->\n",
       "<g class=\"edge\" id=\"edge5\">\n",
       "<title>qi0-&gt;0</title>\n",
       "<path d=\"M5.4121,-70C16.2451,-70 71.3223,-70 115.3267,-70\" fill=\"none\" stroke=\"#000000\"/>\n",
       "<polygon fill=\"#000000\" points=\"115.3821,-73.5001 125.3821,-70 115.382,-66.5001 115.3821,-73.5001\" stroke=\"#000000\"/>\n",
       "</g>\n",
       "</g>\n",
       "</svg>"
      ],
      "text/plain": [
       "<IPython.core.display.SVG object>"
      ]
     },
     "metadata": {},
     "output_type": "display_data"
    }
   ],
   "source": [
    "afmaxed = fsm.Machine('fsm-to-minimize',['0', '1'], ['a', 'b'], [['a', '0', '1'],\n",
    "                                      ['a', '1', '1'],\n",
    "                                      ['b', '0', '1'],\n",
    "                                      ['b', '1', '1']],\n",
    "             ['0'], ['0', '1'])\n",
    "afmaxed.represent().draw('file', format='svg', prog='dot')\n",
    "display(SVG(filename='file'))"
   ]
  },
  {
   "cell_type": "code",
   "execution_count": 6,
   "metadata": {},
   "outputs": [
    {
     "data": {
      "image/svg+xml": [
       "<svg height=\"191pt\" viewBox=\"0.00 0.00 543.72 191.00\" width=\"544pt\" xmlns=\"http://www.w3.org/2000/svg\" xmlns:xlink=\"http://www.w3.org/1999/xlink\">\n",
       "<g class=\"graph\" id=\"graph0\" transform=\"scale(1 1) rotate(0) translate(4 187)\">\n",
       "<polygon fill=\"#ffffff\" points=\"-4,4 -4,-187 539.7214,-187 539.7214,4 -4,4\" stroke=\"transparent\"/>\n",
       "<text fill=\"#000000\" font-family=\"Times,serif\" font-size=\"14.00\" text-anchor=\"middle\" x=\"267.8607\" y=\"-7.8\">fsm-example minimized</text>\n",
       "<!-- 0 -->\n",
       "<g class=\"node\" id=\"node1\">\n",
       "<title>0</title>\n",
       "<ellipse cx=\"348.7214\" cy=\"-70\" fill=\"#ffffff\" rx=\"43\" ry=\"43\" stroke=\"#000000\"/>\n",
       "<ellipse cx=\"348.7214\" cy=\"-70\" fill=\"none\" rx=\"47\" ry=\"47\" stroke=\"#000000\"/>\n",
       "<text fill=\"#000000\" font-family=\"Times,serif\" font-size=\"14.00\" text-anchor=\"middle\" x=\"348.7214\" y=\"-66.3\">0</text>\n",
       "</g>\n",
       "<!-- 0&#45;&gt;0 -->\n",
       "<g class=\"edge\" id=\"edge1\">\n",
       "<title>0-&gt;0</title>\n",
       "<path d=\"M324.3479,-110.3071C324.2199,-123.9967 332.3444,-135 348.7214,-135 360.8762,-135 368.4851,-128.9389 371.5483,-120.217\" fill=\"none\" stroke=\"#000000\"/>\n",
       "<polygon fill=\"#000000\" points=\"375.011,-120.7273 373.0949,-110.3071 368.0947,-119.6478 375.011,-120.7273\" stroke=\"#000000\"/>\n",
       "<text fill=\"#000000\" font-family=\"Times,serif\" font-size=\"14.00\" text-anchor=\"middle\" x=\"348.7214\" y=\"-138.8\">a</text>\n",
       "</g>\n",
       "<!-- 0&#45;&gt;0 -->\n",
       "<g class=\"edge\" id=\"edge2\">\n",
       "<title>0-&gt;0</title>\n",
       "<path d=\"M309.9809,-97.2042C288.5813,-123.7899 301.4948,-153 348.7214,-153 390.967,-153 405.7558,-129.6265 393.0878,-105.6663\" fill=\"none\" stroke=\"#000000\"/>\n",
       "<polygon fill=\"#000000\" points=\"395.913,-103.594 387.4619,-97.2042 390.0837,-107.4695 395.913,-103.594\" stroke=\"#000000\"/>\n",
       "<text fill=\"#000000\" font-family=\"Times,serif\" font-size=\"14.00\" text-anchor=\"middle\" x=\"348.7214\" y=\"-156.8\">b</text>\n",
       "</g>\n",
       "<!-- qi0 -->\n",
       "<g class=\"node\" id=\"node2\">\n",
       "<title>qi0</title>\n",
       "<ellipse cx=\"6.7214\" cy=\"-70\" fill=\"#000000\" rx=\"1.8\" ry=\"1.8\" stroke=\"#000000\"/>\n",
       "</g>\n",
       "<!-- qi0&#45;&gt;0 -->\n",
       "<g class=\"edge\" id=\"edge3\">\n",
       "<title>qi0-&gt;0</title>\n",
       "<path d=\"M8.5614,-70C28.1535,-70 199.4121,-70 291.1905,-70\" fill=\"none\" stroke=\"#000000\"/>\n",
       "<polygon fill=\"#000000\" points=\"291.4344,-73.5001 301.4344,-70 291.4343,-66.5001 291.4344,-73.5001\" stroke=\"#000000\"/>\n",
       "</g>\n",
       "</g>\n",
       "</svg>"
      ],
      "text/plain": [
       "<IPython.core.display.SVG object>"
      ]
     },
     "metadata": {},
     "output_type": "display_data"
    }
   ],
   "source": [
    "afmin = afmaxed.minimize()\n",
    "afmin.represent().draw('file', format='svg', prog='dot')\n",
    "display(SVG(filename='file'))"
   ]
  },
  {
   "cell_type": "code",
   "execution_count": null,
   "metadata": {},
   "outputs": [],
   "source": []
  }
 ],
 "metadata": {
  "kernelspec": {
   "display_name": "Python 3",
   "language": "python",
   "name": "python3"
  },
  "language_info": {
   "codemirror_mode": {
    "name": "ipython",
    "version": 3
   },
   "file_extension": ".py",
   "mimetype": "text/x-python",
   "name": "python",
   "nbconvert_exporter": "python",
   "pygments_lexer": "ipython3",
   "version": "3.6.7"
  }
 },
 "nbformat": 4,
 "nbformat_minor": 2
}
