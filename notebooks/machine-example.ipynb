{
 "cells": [
  {
   "cell_type": "code",
   "execution_count": 12,
   "metadata": {},
   "outputs": [],
   "source": [
    "import sys\n",
    "sys.path.append('../')\n",
    "import minimize.machine as fsm\n",
    "from IPython.display import SVG, display"
   ]
  },
  {
   "cell_type": "markdown",
   "metadata": {},
   "source": [
    "# Exemple de mostreig d'un AF\n",
    "\n",
    "En la següent cel·la podem veure com mostrar un AF en l'entorn de treball de jupyter. El propi jupyter no\n",
    "mostrarà directament la imatge, donat que el mòdul que hem utilitzat està encarada a fer fitxers. Per\n",
    "a superar aquesta mancança del mòdul, escrivim un fitxer i el mostrem utilitzant el display que proporciona\n",
    "jupyter."
   ]
  },
  {
   "cell_type": "code",
   "execution_count": 14,
   "metadata": {},
   "outputs": [
    {
     "data": {
      "image/svg+xml": [
       "<svg height=\"191pt\" viewBox=\"0.00 0.00 542.55 191.00\" width=\"543pt\" xmlns=\"http://www.w3.org/2000/svg\" xmlns:xlink=\"http://www.w3.org/1999/xlink\">\n",
       "<g class=\"graph\" id=\"graph0\" transform=\"scale(1 1) rotate(0) translate(4 187)\">\n",
       "<polygon fill=\"#ffffff\" points=\"-4,4 -4,-187 538.5501,-187 538.5501,4 -4,4\" stroke=\"transparent\"/>\n",
       "<text fill=\"#000000\" font-family=\"Times,serif\" font-size=\"14.00\" text-anchor=\"middle\" x=\"267.275\" y=\"-7.8\">AF exemple</text>\n",
       "<!-- 0 -->\n",
       "<g class=\"node\" id=\"node1\">\n",
       "<title>0</title>\n",
       "<ellipse cx=\"169.5501\" cy=\"-70\" fill=\"#ffffff\" rx=\"43\" ry=\"43\" stroke=\"#000000\"/>\n",
       "<text fill=\"#000000\" font-family=\"Times,serif\" font-size=\"14.00\" text-anchor=\"middle\" x=\"169.5501\" y=\"-66.3\">0</text>\n",
       "</g>\n",
       "<!-- 1 -->\n",
       "<g class=\"node\" id=\"node2\">\n",
       "<title>1</title>\n",
       "<ellipse cx=\"439.5501\" cy=\"-70\" fill=\"#ffffff\" rx=\"43\" ry=\"43\" stroke=\"#000000\"/>\n",
       "<ellipse cx=\"439.5501\" cy=\"-70\" fill=\"none\" rx=\"47\" ry=\"47\" stroke=\"#000000\"/>\n",
       "<text fill=\"#000000\" font-family=\"Times,serif\" font-size=\"14.00\" text-anchor=\"middle\" x=\"439.5501\" y=\"-66.3\">1</text>\n",
       "</g>\n",
       "<!-- 0&#45;&gt;1 -->\n",
       "<g class=\"edge\" id=\"edge1\">\n",
       "<title>0-&gt;1</title>\n",
       "<path d=\"M212.6309,-70C258.5958,-70 331.6349,-70 382.3847,-70\" fill=\"none\" stroke=\"#000000\"/>\n",
       "<polygon fill=\"#000000\" points=\"382.5402,-73.5001 392.5401,-70 382.5401,-66.5001 382.5402,-73.5001\" stroke=\"#000000\"/>\n",
       "<text fill=\"#000000\" font-family=\"Times,serif\" font-size=\"14.00\" text-anchor=\"middle\" x=\"300.5501\" y=\"-73.8\">a</text>\n",
       "</g>\n",
       "<!-- 1&#45;&gt;1 -->\n",
       "<g class=\"edge\" id=\"edge2\">\n",
       "<title>1-&gt;1</title>\n",
       "<path d=\"M426.7902,-115.2611C427.6825,-126.557 431.9358,-135 439.5501,-135 444.6659,-135 448.2645,-131.1887 450.3459,-125.2615\" fill=\"none\" stroke=\"#000000\"/>\n",
       "<polygon fill=\"#000000\" points=\"453.8172,-125.7482 452.3099,-115.2611 446.9484,-124.3992 453.8172,-125.7482\" stroke=\"#000000\"/>\n",
       "<text fill=\"#000000\" font-family=\"Times,serif\" font-size=\"14.00\" text-anchor=\"middle\" x=\"439.5501\" y=\"-138.8\">a</text>\n",
       "</g>\n",
       "<!-- 1&#45;&gt;1 -->\n",
       "<g class=\"edge\" id=\"edge3\">\n",
       "<title>1-&gt;1</title>\n",
       "<path d=\"M414.9132,-110.1395C410.3143,-132.4526 418.5266,-153 439.5501,-153 457.3707,-153 465.9863,-138.2363 465.3967,-120.1479\" fill=\"none\" stroke=\"#000000\"/>\n",
       "<polygon fill=\"#000000\" points=\"468.8618,-119.6472 464.1869,-110.1395 461.9124,-120.4873 468.8618,-119.6472\" stroke=\"#000000\"/>\n",
       "<text fill=\"#000000\" font-family=\"Times,serif\" font-size=\"14.00\" text-anchor=\"middle\" x=\"439.5501\" y=\"-156.8\">b</text>\n",
       "</g>\n",
       "<!-- qi0 -->\n",
       "<g class=\"node\" id=\"node3\">\n",
       "<title>qi0</title>\n",
       "<ellipse cx=\"3.5501\" cy=\"-70\" fill=\"#000000\" rx=\"1.8\" ry=\"1.8\" stroke=\"#000000\"/>\n",
       "</g>\n",
       "<!-- qi0&#45;&gt;0 -->\n",
       "<g class=\"edge\" id=\"edge4\">\n",
       "<title>qi0-&gt;0</title>\n",
       "<path d=\"M5.4143,-70C16.2964,-70 72.6316,-70 116.3021,-70\" fill=\"none\" stroke=\"#000000\"/>\n",
       "<polygon fill=\"#000000\" points=\"116.5311,-73.5001 126.531,-70 116.531,-66.5001 116.5311,-73.5001\" stroke=\"#000000\"/>\n",
       "</g>\n",
       "</g>\n",
       "</svg>"
      ],
      "text/plain": [
       "<IPython.core.display.SVG object>"
      ]
     },
     "metadata": {},
     "output_type": "display_data"
    }
   ],
   "source": [
    "af = fsm.Machine(['0', '1'], ['a', 'b'], [['a', '0', '1'],\n",
    "                                      ['a', '1', '1'],\n",
    "                                      ['b', '1', '1']],\n",
    "             ['0'], ['1'])\n",
    "af.represent('AF exemple').draw('file', format='svg', prog='dot')\n",
    "display(SVG(filename='file'))"
   ]
  },
  {
   "cell_type": "code",
   "execution_count": null,
   "metadata": {},
   "outputs": [],
   "source": []
  }
 ],
 "metadata": {
  "kernelspec": {
   "display_name": "Python 3",
   "language": "python",
   "name": "python3"
  },
  "language_info": {
   "codemirror_mode": {
    "name": "ipython",
    "version": 3
   },
   "file_extension": ".py",
   "mimetype": "text/x-python",
   "name": "python",
   "nbconvert_exporter": "python",
   "pygments_lexer": "ipython3",
   "version": "3.6.7"
  }
 },
 "nbformat": 4,
 "nbformat_minor": 2
}
